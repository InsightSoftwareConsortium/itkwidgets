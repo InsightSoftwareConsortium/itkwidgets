{
 "cells": [
  {
   "cell_type": "code",
   "execution_count": null,
   "metadata": {},
   "outputs": [],
   "source": [
    "# Install dependencies for this example\n",
    "# Note: This does not include itkwidgets, itself\n",
    "import sys\n",
    "!{sys.executable} -m pip install itk-io"
   ]
  },
  {
   "cell_type": "code",
   "execution_count": 1,
   "metadata": {},
   "outputs": [],
   "source": [
    "try:\n",
    "    from urllib.request import urlretrieve\n",
    "except ImportError:\n",
    "    from urllib import urlretrieve\n",
    "import os\n",
    "\n",
    "import itk\n",
    "\n",
    "from itkwidgets import view\n",
    "\n",
    "from ipywidgets import interactive\n",
    "import ipywidgets as widgets"
   ]
  },
  {
   "cell_type": "code",
   "execution_count": 2,
   "metadata": {},
   "outputs": [],
   "source": [
    "# Download data\n",
    "file_name = 'PacMan.png'\n",
    "if not os.path.exists(file_name):\n",
    "    url = 'https://data.kitware.com/api/v1/file/57b5d5a88d777f10f26943e9/download'\n",
    "    urlretrieve(url, file_name)"
   ]
  },
  {
   "cell_type": "code",
   "execution_count": 3,
   "metadata": {},
   "outputs": [],
   "source": [
    "image = itk.imread(file_name)"
   ]
  },
  {
   "cell_type": "markdown",
   "metadata": {},
   "source": [
    "This example demonstrates how to combine `ipywidgets` native [interactive](https://ipywidgets.readthedocs.io/en/latest/examples/Using%20Interact.html) function to quickly create widgets coupled with an `itkwidgets` viewer. This is an effective method to explore algorithm parameters."
   ]
  },
  {
   "cell_type": "code",
   "execution_count": 4,
   "metadata": {},
   "outputs": [
    {
     "data": {
      "application/vnd.jupyter.widget-view+json": {
       "model_id": "021898e9c7ad4a6680d0c1f9c2fb527c",
       "version_major": 2,
       "version_minor": 0
      },
      "text/plain": [
       "VBox(children=(Viewer(annotations=False, rendered_image=<itkImagePython.itkImageUC2; proxy of <Swig Object of …"
      ]
     },
     "metadata": {},
     "output_type": "display_data"
    }
   ],
   "source": [
    "# `view` returns the widget object\n",
    "viewer = view(image, annotations=False)\n",
    "\n",
    "# Create an itk smoother filter object. By re-using the object, output memory-reallocation is avoided\n",
    "smoother = itk.MedianImageFilter.New(image)\n",
    "\n",
    "# Define a function to use with ipywidgets `interactive`\n",
    "def smooth_and_view(radius=2):\n",
    "    smoother.SetRadius(radius)\n",
    "    smoother.Update()\n",
    "    # Update the image used in the viewer\n",
    "    viewer.image = smoother.GetOutput()\n",
    "slider = interactive(smooth_and_view, radius=(0, 10, 1))\n",
    "\n",
    "widgets.VBox([viewer, slider])"
   ]
  }
 ],
 "metadata": {
  "kernelspec": {
   "display_name": "Python 2",
   "language": "python",
   "name": "python2"
  },
  "language_info": {
   "codemirror_mode": {
    "name": "ipython",
    "version": 3
   },
   "file_extension": ".py",
   "mimetype": "text/x-python",
   "name": "python",
   "nbconvert_exporter": "python",
   "pygments_lexer": "ipython3",
   "version": "3.6.5"
  }
 },
 "nbformat": 4,
 "nbformat_minor": 2
}
