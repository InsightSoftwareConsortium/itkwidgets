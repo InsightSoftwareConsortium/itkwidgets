{
 "cells": [
  {
   "cell_type": "code",
   "execution_count": null,
   "metadata": {},
   "outputs": [],
   "source": [
    "# Install dependencies for this example\n",
    "# Note: This does not include itk-jupyter-widgets, itself\n",
    "# The page may need to be reloaded after ipywebrtc is installed\n",
    "import sys\n",
    "!{sys.executable} -m pip install itk-io ipywebrtc>=0.4.0"
   ]
  },
  {
   "cell_type": "code",
   "execution_count": 20,
   "metadata": {},
   "outputs": [],
   "source": [
    "try:\n",
    "    from urllib.request import urlretrieve\n",
    "except ImportError:\n",
    "    from urllib import urlretrieve\n",
    "import os\n",
    "\n",
    "import itk\n",
    "\n",
    "from itkwidgets import view\n",
    "import itkwidgets\n",
    "import ipywebrtc as webrtc"
   ]
  },
  {
   "cell_type": "code",
   "execution_count": 21,
   "metadata": {},
   "outputs": [],
   "source": [
    "# Download data\n",
    "file_name = 'TCIA-Breast_Diagnosis-BreastDx-01-0035-STIR_Sense.nrrd'\n",
    "if not os.path.exists(file_name):\n",
    "    url = 'https://data.kitware.com/api/v1/file/5b7098d38d777f06857c3383/download'\n",
    "    urlretrieve(url, file_name)"
   ]
  },
  {
   "cell_type": "code",
   "execution_count": 22,
   "metadata": {},
   "outputs": [
    {
     "data": {
      "application/vnd.jupyter.widget-view+json": {
       "model_id": "62680aa364d04d52a706be2fb82acaa5",
       "version_major": 2,
       "version_minor": 0
      },
      "text/plain": [
       "Vmlld2VyKGNtYXA9dSdCdVJkJywgcmVuZGVyZWRfaW1hZ2U9PGl0a0ltYWdlUHl0aG9uLml0a0ltYWdlVVMzOyBwcm94eSBvZiA8U3dpZyBPYmplY3Qgb2YgdHlwZSAnaXRrSW1hZ2VVUzMgKifigKY=\n"
      ]
     },
     "metadata": {},
     "output_type": "display_data"
    }
   ],
   "source": [
    "image = itk.imread(file_name, pixel_type=itk.US)\n",
    "viewer = view(image, cmap=itkwidgets.cm.BuRd, annotations=False)\n",
    "viewer"
   ]
  },
  {
   "cell_type": "code",
   "execution_count": 23,
   "metadata": {},
   "outputs": [
    {
     "data": {
      "application/vnd.jupyter.widget-view+json": {
       "model_id": "b8b4299243ba42f6be307ca8a326924d",
       "version_major": 2,
       "version_minor": 0
      },
      "text/plain": [
       "VmlkZW9SZWNvcmRlcihhdXRvc2F2ZT1UcnVlLCBmaWxlbmFtZT11J3dpZGdldF92aWRlby53ZWJtJywgc3RyZWFtPVZpZXdlcihjbWFwPXUnQnVSZCcsIHJlbmRlcmVkX2ltYWdlPTxpdGtJbWHigKY=\n"
      ]
     },
     "metadata": {},
     "output_type": "display_data"
    }
   ],
   "source": [
    "recorder = webrtc.VideoRecorder(stream=viewer, filename='widget_video.webm', autosave=True)\n",
    "recorder"
   ]
  },
  {
   "cell_type": "markdown",
   "metadata": {},
   "source": [
    "In addition to recording, playing back, and downloading videos (shown above), it is possible to take and save screenshots."
   ]
  },
  {
   "cell_type": "code",
   "execution_count": 24,
   "metadata": {},
   "outputs": [
    {
     "data": {
      "application/vnd.jupyter.widget-view+json": {
       "model_id": "f37b3608a55244269c449d6eb0078833",
       "version_major": 2,
       "version_minor": 0
      },
      "text/plain": [
       "SW1hZ2VSZWNvcmRlcihhdXRvc2F2ZT1UcnVlLCBmaWxlbmFtZT11J3dpZGdldF9pbWFnZScsIGltYWdlPUltYWdlKHZhbHVlPScnKSwgc3RyZWFtPVZpZXdlcihjbWFwPXUnQnVSZCcsIHJlbmTigKY=\n"
      ]
     },
     "metadata": {},
     "output_type": "display_data"
    }
   ],
   "source": [
    "image_recorder = webrtc.ImageRecorder(stream=viewer, filename='widget_image', autosave=True)\n",
    "image_recorder"
   ]
  },
  {
   "cell_type": "code",
   "execution_count": null,
   "metadata": {},
   "outputs": [],
   "source": []
  }
 ],
 "metadata": {
  "kernelspec": {
   "display_name": "Python 2",
   "language": "python",
   "name": "python2"
  },
  "language_info": {
   "codemirror_mode": {
    "name": "ipython",
    "version": 2
   },
   "file_extension": ".py",
   "mimetype": "text/x-python",
   "name": "python",
   "nbconvert_exporter": "python",
   "pygments_lexer": "ipython2",
   "version": "2.7.13"
  }
 },
 "nbformat": 4,
 "nbformat_minor": 2
}
