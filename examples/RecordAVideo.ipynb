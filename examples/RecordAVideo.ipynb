{
 "cells": [
  {
   "cell_type": "code",
   "execution_count": null,
   "metadata": {},
   "outputs": [],
   "source": [
    "# Install dependencies for this example\n",
    "# Note: This does not include itk-jupyter-widgets, itself\n",
    "# The page may need to be reloaded after ipywebrtc is installed\n",
    "import sys\n",
    "!{sys.executable} -m pip install itk-io ipywebrtc>=0.5.0"
   ]
  },
  {
   "cell_type": "code",
   "execution_count": 1,
   "metadata": {},
   "outputs": [],
   "source": [
    "try:\n",
    "    from urllib.request import urlretrieve\n",
    "except ImportError:\n",
    "    from urllib import urlretrieve\n",
    "import os\n",
    "\n",
    "import itk\n",
    "\n",
    "from itkwidgets import view\n",
    "import itkwidgets\n",
    "import ipywebrtc as webrtc"
   ]
  },
  {
   "cell_type": "code",
   "execution_count": 2,
   "metadata": {},
   "outputs": [],
   "source": [
    "# Download data\n",
    "file_name = 'TCIA-Breast_Diagnosis-BreastDx-01-0035-STIR_Sense.nrrd'\n",
    "if not os.path.exists(file_name):\n",
    "    url = 'https://data.kitware.com/api/v1/file/5b7098d38d777f06857c3383/download'\n",
    "    urlretrieve(url, file_name)"
   ]
  },
  {
   "cell_type": "code",
   "execution_count": 3,
   "metadata": {},
   "outputs": [
    {
     "data": {
      "application/vnd.jupyter.widget-view+json": {
       "model_id": "2bb5aa361eea480caefc20f9ba0397c8",
       "version_major": 2,
       "version_minor": 0
      },
      "text/plain": [
       "Viewer(annotations=False, cmap='BuRd', geometries=[], gradient_opacity=0.22, point_sets=[], rendered_image=<it…"
      ]
     },
     "metadata": {},
     "output_type": "display_data"
    }
   ],
   "source": [
    "image = itk.imread(file_name, pixel_type=itk.US)\n",
    "viewer = view(image, cmap=itkwidgets.cm.BuRd, annotations=False,\n",
    "              ui_collapsed=True, rotate=True)\n",
    "viewer"
   ]
  },
  {
   "cell_type": "code",
   "execution_count": 5,
   "metadata": {},
   "outputs": [
    {
     "data": {
      "application/vnd.jupyter.widget-view+json": {
       "model_id": "835e6a3b073c41e69c2d3d3e8ff3db94",
       "version_major": 2,
       "version_minor": 0
      },
      "text/plain": [
       "VideoRecorder(autosave=True, filename='widget_video.webm', stream=Viewer(annotations=False, cmap='BuRd', geome…"
      ]
     },
     "metadata": {},
     "output_type": "display_data"
    }
   ],
   "source": [
    "recorder = webrtc.VideoRecorder(stream=viewer, filename='widget_video.webm', autosave=True)\n",
    "recorder"
   ]
  },
  {
   "cell_type": "markdown",
   "metadata": {},
   "source": [
    "In addition to recording, playing back, and downloading videos (shown above), it is possible to take and save screenshots."
   ]
  },
  {
   "cell_type": "code",
   "execution_count": 6,
   "metadata": {},
   "outputs": [
    {
     "data": {
      "application/vnd.jupyter.widget-view+json": {
       "model_id": "d9252dfb9e0c42cf84e7e229cdef2e78",
       "version_major": 2,
       "version_minor": 0
      },
      "text/plain": [
       "ImageRecorder(autosave=True, filename='widget_image', image=Image(value=b''), stream=Viewer(annotations=False,…"
      ]
     },
     "metadata": {},
     "output_type": "display_data"
    }
   ],
   "source": [
    "image_recorder = webrtc.ImageRecorder(stream=viewer, filename='widget_image', autosave=True)\n",
    "image_recorder"
   ]
  }
 ],
 "metadata": {
  "kernelspec": {
   "display_name": "Python 2",
   "language": "python",
   "name": "python2"
  },
  "language_info": {
   "codemirror_mode": {
    "name": "ipython",
    "version": 3
   },
   "file_extension": ".py",
   "mimetype": "text/x-python",
   "name": "python",
   "nbconvert_exporter": "python",
   "pygments_lexer": "ipython3",
   "version": "3.6.6"
  }
 },
 "nbformat": 4,
 "nbformat_minor": 2
}
