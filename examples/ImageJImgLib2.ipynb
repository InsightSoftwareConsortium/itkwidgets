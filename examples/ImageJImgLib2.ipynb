{
 "cells": [
  {
   "cell_type": "markdown",
   "metadata": {},
   "source": [
    "# ImageJ, Python, and itk-jupyter-widgets\n",
    "\n",
    "This example demonstrates how to use ImageJ from CPython and how it can be used with itk-jupyter-widgets.\n",
    "\n",
    "To run this example, use the [conda](https://docs.conda.io/en/latest/) cross-platform package manager and install the [pyimagej package](https://github.com/imagej/pyimagej) from [conda-forge](https://conda-forge.org/).\n",
    "\n",
    "```\n",
    "conda install -c conda-forge pyimagej\n",
    "```"
   ]
  },
  {
   "cell_type": "code",
   "execution_count": null,
   "metadata": {},
   "outputs": [],
   "source": [
    "# Install dependencies for this example\n",
    "#\n",
    "# Here we assume itkwidgets has already been installed\n",
    "import sys\n",
    "!conda install --yes --prefix {sys.prefix} -c conda-forge pyimagej"
   ]
  },
  {
   "cell_type": "code",
   "execution_count": 3,
   "metadata": {},
   "outputs": [],
   "source": [
    "try:\n",
    "    from urllib.request import urlretrieve\n",
    "except ImportError:\n",
    "    from urllib import urlretrieve\n",
    "import os\n",
    "\n",
    "import itk\n",
    "import imagej\n",
    "import numpy as np\n",
    "\n",
    "from itkwidgets import view"
   ]
  },
  {
   "cell_type": "code",
   "execution_count": 4,
   "metadata": {},
   "outputs": [
    {
     "name": "stdout",
     "output_type": "stream",
     "text": [
      "2.0.0-rc-71\n"
     ]
    }
   ],
   "source": [
    "# Initialize imagej\n",
    "ij = imagej.init()\n",
    "print(ij.getVersion())"
   ]
  },
  {
   "cell_type": "code",
   "execution_count": 5,
   "metadata": {},
   "outputs": [],
   "source": [
    "# Download data\n",
    "file_name = 'General_EduRes_Heart_BloodVessels_0.jpg'\n",
    "if not os.path.exists(file_name):\n",
    "    url = 'https://data.kitware.com/api/v1/file/5afe74408d777f15ebe1d701/download'\n",
    "    urlretrieve(url, file_name)"
   ]
  },
  {
   "cell_type": "code",
   "execution_count": 6,
   "metadata": {},
   "outputs": [
    {
     "data": {
      "application/vnd.jupyter.widget-view+json": {
       "model_id": "96e71029a78b4fb2919fccbf2bbfbc3e",
       "version_major": 2,
       "version_minor": 0
      },
      "text/plain": [
       "Viewer(gradient_opacity=0.22, rendered_image=<itkImagePython.itkImageF2; proxy of <Swig Object of type 'itkIma…"
      ]
     },
     "metadata": {},
     "output_type": "display_data"
    }
   ],
   "source": [
    "image = itk.imread(file_name, pixelType=itk.ctype('float'))\n",
    "view(image)"
   ]
  },
  {
   "cell_type": "code",
   "execution_count": 7,
   "metadata": {},
   "outputs": [],
   "source": [
    "image_arr = itk.GetArrayViewFromImage(image)\n",
    "image_java = ij.py.to_java(image_arr)"
   ]
  },
  {
   "cell_type": "code",
   "execution_count": 8,
   "metadata": {
    "scrolled": true
   },
   "outputs": [
    {
     "data": {
      "text/plain": [
       "<net.imglib2.RandomAccessibleInterval at 0x7fc72813dca8 jclass=net/imglib2/RandomAccessibleInterval jself=<LocalRef obj=0x562e096cf038 at 0x7fc7281b7e30>>"
      ]
     },
     "execution_count": 8,
     "metadata": {},
     "output_type": "execute_result"
    }
   ],
   "source": [
    "# Invoke the Frangi vesselness op.\n",
    "vessels = np.zeros(image_arr.shape, dtype=np.float32)\n",
    "ij.op().filter().frangiVesselness(ij.py.to_java(vessels), image_java, [1, 1], 20)"
   ]
  },
  {
   "cell_type": "code",
   "execution_count": 9,
   "metadata": {},
   "outputs": [
    {
     "data": {
      "application/vnd.jupyter.widget-view+json": {
       "model_id": "1510d0341212427dae2aabaa2215d88b",
       "version_major": 2,
       "version_minor": 0
      },
      "text/plain": [
       "Viewer(gradient_opacity=0.22, rendered_image=<itkImagePython.itkImageF2; proxy of <Swig Object of type 'itkIma…"
      ]
     },
     "metadata": {},
     "output_type": "display_data"
    }
   ],
   "source": [
    "view(vessels)"
   ]
  }
 ],
 "metadata": {
  "kernelspec": {
   "display_name": "Python 2",
   "language": "python",
   "name": "python2"
  },
  "language_info": {
   "codemirror_mode": {
    "name": "ipython",
    "version": 3
   },
   "file_extension": ".py",
   "mimetype": "text/x-python",
   "name": "python",
   "nbconvert_exporter": "python",
   "pygments_lexer": "ipython3",
   "version": "3.7.3"
  }
 },
 "nbformat": 4,
 "nbformat_minor": 2
}
