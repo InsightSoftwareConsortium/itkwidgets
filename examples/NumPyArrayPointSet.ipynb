{
 "cells": [
  {
   "cell_type": "code",
   "execution_count": 4,
   "metadata": {},
   "outputs": [],
   "source": [
    "import numpy as np\n",
    "\n",
    "from itkwidgets import view"
   ]
  },
  {
   "cell_type": "code",
   "execution_count": 11,
   "metadata": {},
   "outputs": [],
   "source": [
    "number_of_points = 3000\n",
    "\n",
    "gaussian_1_mean = [0.0, 0.0, 0.0]\n",
    "gaussian_1_cov = [[1.0, 0.0, 0.0], [0.0, 2.0, 0.0], [0.0, 0.0, 0.5]]\n",
    "point_set_1 = np.random.multivariate_normal(gaussian_1_mean, gaussian_1_cov,\n",
    "        number_of_points)\n",
    "\n",
    "gaussian_2_mean = [4.0, 6.0, 7.0]\n",
    "gaussian_2_cov = [[2.0, 0.0, 0.0], [0.0, 2.0, 0.0], [0.0, 0.0, 1.5]]\n",
    "point_set_2 = np.random.multivariate_normal(gaussian_2_mean, gaussian_2_cov,\n",
    "        number_of_points)\n",
    "\n",
    "gaussian_3_mean = [4.0, 0.0, 7.0]\n",
    "gaussian_3_cov = [[4.0, 0.0, 0.0], [0.0, 1.0, 0.0], [0.0, 0.0, 3.5]]\n",
    "point_set_3 = np.random.multivariate_normal(gaussian_3_mean, gaussian_3_cov,\n",
    "        number_of_points)"
   ]
  },
  {
   "cell_type": "code",
   "execution_count": 12,
   "metadata": {},
   "outputs": [
    {
     "data": {
      "application/vnd.jupyter.widget-view+json": {
       "model_id": "6bb76a6ff085454298457bebc22eca3d",
       "version_major": 2,
       "version_minor": 0
      },
      "text/plain": [
       "Viewer(geometries=[], gradient_opacity=0.22, point_set_colors=array([[0.8392157 , 0.        , 0.        ],\n",
       "   …"
      ]
     },
     "metadata": {},
     "output_type": "display_data"
    }
   ],
   "source": [
    "view(point_sets=[point_set_1, point_set_2, point_set_3])"
   ]
  }
 ],
 "metadata": {
  "kernelspec": {
   "display_name": "Python 2",
   "language": "python",
   "name": "python2"
  },
  "language_info": {
   "codemirror_mode": {
    "name": "ipython",
    "version": 3
   },
   "file_extension": ".py",
   "mimetype": "text/x-python",
   "name": "python",
   "nbconvert_exporter": "python",
   "pygments_lexer": "ipython3",
   "version": "3.6.6"
  }
 },
 "nbformat": 4,
 "nbformat_minor": 2
}
