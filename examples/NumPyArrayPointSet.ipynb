{
 "cells": [
  {
   "cell_type": "code",
   "execution_count": 1,
   "metadata": {},
   "outputs": [],
   "source": [
    "import numpy as np\n",
    "\n",
    "from itkwidgets import view"
   ]
  },
  {
   "cell_type": "code",
   "execution_count": 2,
   "metadata": {},
   "outputs": [],
   "source": [
    "number_of_points = 10\n",
    "\n",
    "gaussian_1_mean = [0.0, 0.0, 0.0]\n",
    "gaussian_1_cov = [[1.0, 0.0, 0.0], [0.0, 2.0, 0.0], [0.0, 0.0, 0.5]]\n",
    "point_set_1 = np.random.multivariate_normal(gaussian_1_mean, gaussian_1_cov,\n",
    "        number_of_points)\n",
    "\n",
    "gaussian_2_mean = [4.0, 6.0, 7.0]\n",
    "gaussian_2_cov = [[2.0, 0.0, 0.0], [0.0, 2.0, 0.0], [0.0, 0.0, 1.5]]\n",
    "point_set_2 = np.random.multivariate_normal(gaussian_2_mean, gaussian_2_cov,\n",
    "        number_of_points)"
   ]
  },
  {
   "cell_type": "code",
   "execution_count": 3,
   "metadata": {},
   "outputs": [
    {
     "name": "stdout",
     "output_type": "stream",
     "text": [
      "[{'vtkClass': 'vtkPolyData', 'points': {'vtkClass': 'vtkPoints', 'numberOfComponents': 3, 'dataType': 'Float32Array', 'size': 30, 'values': array([[-6.5073079e-01, -1.2907574e+00, -3.7831819e-01],\n",
      "       [ 3.1577373e+00, -5.6544063e-04,  9.1382843e-01],\n",
      "       [ 1.0932102e+00,  7.8530580e-01, -1.0985601e-02],\n",
      "       [ 1.0417132e+00, -7.0232838e-01,  5.6876355e-01],\n",
      "       [-2.9587042e-01, -3.3398056e-01,  1.9678830e-01],\n",
      "       [ 3.5011518e-01,  2.1968076e+00, -1.4866626e-02],\n",
      "       [ 1.3246304e+00,  5.3077328e-01, -1.9506447e-02],\n",
      "       [ 4.7904834e-01,  7.1973532e-01, -9.0287513e-01],\n",
      "       [ 4.4517130e-01,  6.8606573e-01, -1.2226470e-03],\n",
      "       [-6.5315050e-01, -3.4101100e+00,  1.9310120e-01]], dtype=float32)}}]\n"
     ]
    },
    {
     "data": {
      "application/vnd.jupyter.widget-view+json": {
       "model_id": "4e3cf77c23e5472bb6683ee433ca4fd0",
       "version_major": 2,
       "version_minor": 0
      },
      "text/plain": [
       "Viewer(gradient_opacity=0.22, point_sets=[{'vtkClass': 'vtkPolyData', 'points': {'vtkClass': 'vtkPoints', 'num…"
      ]
     },
     "metadata": {},
     "output_type": "display_data"
    }
   ],
   "source": [
    "view(point_sets=[point_set_1])"
   ]
  },
  {
   "cell_type": "code",
   "execution_count": 4,
   "metadata": {},
   "outputs": [
    {
     "data": {
      "text/plain": [
       "[array([[-6.50730792e-01, -1.29075746e+00, -3.78318193e-01],\n",
       "        [ 3.15773726e+00, -5.65440650e-04,  9.13828441e-01],\n",
       "        [ 1.09321026e+00,  7.85305808e-01, -1.09856010e-02],\n",
       "        [ 1.04171320e+00, -7.02328413e-01,  5.68763567e-01],\n",
       "        [-2.95870437e-01, -3.33980564e-01,  1.96788293e-01],\n",
       "        [ 3.50115184e-01,  2.19680756e+00, -1.48666262e-02],\n",
       "        [ 1.32463034e+00,  5.30773280e-01, -1.95064463e-02],\n",
       "        [ 4.79048327e-01,  7.19735351e-01, -9.02875099e-01],\n",
       "        [ 4.45171290e-01,  6.86065734e-01, -1.22264705e-03],\n",
       "        [-6.53150502e-01, -3.41010988e+00,  1.93101198e-01]])]"
      ]
     },
     "execution_count": 4,
     "metadata": {},
     "output_type": "execute_result"
    }
   ],
   "source": [
    "[point_set_1]"
   ]
  },
  {
   "cell_type": "code",
   "execution_count": null,
   "metadata": {},
   "outputs": [],
   "source": []
  }
 ],
 "metadata": {
  "kernelspec": {
   "display_name": "Python 2",
   "language": "python",
   "name": "python2"
  },
  "language_info": {
   "codemirror_mode": {
    "name": "ipython",
    "version": 3
   },
   "file_extension": ".py",
   "mimetype": "text/x-python",
   "name": "python",
   "nbconvert_exporter": "python",
   "pygments_lexer": "ipython3",
   "version": "3.6.6"
  }
 },
 "nbformat": 4,
 "nbformat_minor": 2
}
